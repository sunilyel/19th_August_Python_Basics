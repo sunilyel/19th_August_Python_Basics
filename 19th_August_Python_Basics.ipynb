{
 "cells": [
  {
   "cell_type": "code",
   "execution_count": 5,
   "id": "d530c893-a5b3-4cae-bff4-a341b85890a3",
   "metadata": {},
   "outputs": [
    {
     "name": "stdin",
     "output_type": "stream",
     "text": [
      "Enter the value of x =  15\n",
      "Enter the value of y =  20\n"
     ]
    },
    {
     "name": "stdout",
     "output_type": "stream",
     "text": [
      "values of x and y before swap =  15 & 20\n",
      "values of x and y after swap: 20 & 15\n"
     ]
    }
   ],
   "source": [
    "'''1) Declaring two variables as interger values\n",
    "and swap their values'''\n",
    "\n",
    "x = int(input(\"Enter the value of x = \")) # taking user inputs\n",
    "y = int(input(\"Enter the value of y = \"))\n",
    "print(\"values of x and y before swap = \", x, \"&\", y) #printing user inputs\n",
    "x,y = y,x #swapping values\n",
    "print(\"values of x and y after swap:\", x , \"&\", y) #printing expected output"
   ]
  },
  {
   "cell_type": "code",
   "execution_count": null,
   "id": "c72b921a-e2ef-4f12-8094-8343efc90848",
   "metadata": {},
   "outputs": [],
   "source": []
  },
  {
   "cell_type": "code",
   "execution_count": 6,
   "id": "62f03288-160f-4daa-9395-5163592992b9",
   "metadata": {},
   "outputs": [
    {
     "name": "stdin",
     "output_type": "stream",
     "text": [
      "Enter value of length =  10\n",
      "Enter value of width =  20\n"
     ]
    },
    {
     "name": "stdout",
     "output_type": "stream",
     "text": [
      "200\n"
     ]
    }
   ],
   "source": [
    "#2) calculating area of the length using user inputs\n",
    "length = float(input(\"Enter value of length = \"))\n",
    "width = float(input(\"Enter value of width = \"))\n",
    "\n",
    "area = length * width #formula to calculate area is multiplication of length and width\n",
    "\n",
    "print(area)"
   ]
  },
  {
   "cell_type": "code",
   "execution_count": null,
   "id": "251032f2-9024-48d1-9f1c-92fd06682d4a",
   "metadata": {},
   "outputs": [],
   "source": []
  },
  {
   "cell_type": "code",
   "execution_count": 9,
   "id": "b911992f-ae9f-4da2-aeef-5a96355e15fb",
   "metadata": {},
   "outputs": [
    {
     "name": "stdin",
     "output_type": "stream",
     "text": [
      "Enter value of temperature in celcius =  15.3\n"
     ]
    },
    {
     "name": "stdout",
     "output_type": "stream",
     "text": [
      "Temperature in farenheit is 59.540000000000006\n"
     ]
    }
   ],
   "source": [
    "#3) converting temparature from celcius to farenheit\n",
    "celcius = float(input(\"Enter value of temperature in celcius = \"))\n",
    "\n",
    "farenheit = (celcius*(9/5))+32 #formula to convert celcius to farenheit\n",
    "\n",
    "print(\"Temperature in farenheit is\", farenheit)"
   ]
  },
  {
   "cell_type": "code",
   "execution_count": null,
   "id": "d1ee519b-6fe2-4169-9b9f-66a4c5391c79",
   "metadata": {},
   "outputs": [],
   "source": []
  },
  {
   "cell_type": "code",
   "execution_count": 11,
   "id": "92e24309-746b-441f-aa4f-93996d6a75f4",
   "metadata": {},
   "outputs": [
    {
     "name": "stdin",
     "output_type": "stream",
     "text": [
      "Enter a string to check length = sunil yeligeti\n"
     ]
    },
    {
     "name": "stdout",
     "output_type": "stream",
     "text": [
      "Length of the entered string is 14\n"
     ]
    }
   ],
   "source": [
    "#4) checking the length of the string\n",
    "string_user = input(\"Enter a string to check length =\")\n",
    "\n",
    "length_string = len(string_user) #len is a function to check length of string\n",
    "\n",
    "print(\"Length of the entered string is\", length_string)"
   ]
  },
  {
   "cell_type": "code",
   "execution_count": null,
   "id": "b45551be-2568-475a-9069-b180723276e7",
   "metadata": {},
   "outputs": [],
   "source": []
  },
  {
   "cell_type": "code",
   "execution_count": 12,
   "id": "06e669c8-9890-488c-9746-f27321c6bcf0",
   "metadata": {},
   "outputs": [
    {
     "name": "stdin",
     "output_type": "stream",
     "text": [
      "Enter a word:  sunil yeligeti\n"
     ]
    },
    {
     "name": "stdout",
     "output_type": "stream",
     "text": [
      "6\n"
     ]
    }
   ],
   "source": [
    "'''5)taking user input\n",
    "to check number of vowels'''\n",
    "\n",
    "'''take user input'''\n",
    "name = input(\"Enter a word: \")\n",
    "#initial vowel count is 0\n",
    "word = 0\n",
    "for vowel in name:\n",
    "    #checking vowels in word vowel\n",
    "    if vowel in \"aeiou\":\n",
    "        #adding 1 to word if vowel found\n",
    "        word += 1\n",
    "print(word) #print out output of vowel count"
   ]
  },
  {
   "cell_type": "code",
   "execution_count": null,
   "id": "6095fda0-3f4e-4c72-ae8d-dd4d4e91e4b4",
   "metadata": {},
   "outputs": [],
   "source": []
  },
  {
   "cell_type": "code",
   "execution_count": 13,
   "id": "2fe73db7-247e-41f0-98f8-1bb49e2ef0fa",
   "metadata": {},
   "outputs": [
    {
     "name": "stdin",
     "output_type": "stream",
     "text": [
      "Enter a string to reverse:  sunil yeligeti\n"
     ]
    },
    {
     "name": "stdout",
     "output_type": "stream",
     "text": [
      "Reversed string is  itegiley linus\n"
     ]
    }
   ],
   "source": [
    "#6) reversing the string\n",
    "\n",
    "user_input = input(\"Enter a string to reverse: \")\n",
    "\n",
    "reversed_string = user_input[::-1] #reversing string\n",
    "\n",
    "print(\"Reversed string is \", reversed_string)"
   ]
  },
  {
   "cell_type": "code",
   "execution_count": null,
   "id": "8722adc6-20f8-4c90-92a6-897d908920d2",
   "metadata": {},
   "outputs": [],
   "source": []
  },
  {
   "cell_type": "code",
   "execution_count": 15,
   "id": "88a94c33-0c16-451d-a1e4-64784fe68b39",
   "metadata": {},
   "outputs": [
    {
     "name": "stdin",
     "output_type": "stream",
     "text": [
      "Enter a string to check is it a palindrome or not:  civil\n"
     ]
    },
    {
     "name": "stdout",
     "output_type": "stream",
     "text": [
      "Entered string is not a palindrome\n"
     ]
    }
   ],
   "source": [
    "#7) checking if the user input is a palindrome or not\n",
    "user_string = input(\"Enter a string to check is it a palindrome or not: \")\n",
    "new_string = user_string.replace(\" \",\"\").lower() #removing spaces and converting entire string to lower case\n",
    "\n",
    "reverse_string = new_string[::-1] #reversing string\n",
    "\n",
    "if new_string == reverse_string: \n",
    "    print(\"Enter string is a palindrome\")\n",
    "else:\n",
    "    print(\"Entered string is not a palindrome\")"
   ]
  },
  {
   "cell_type": "code",
   "execution_count": null,
   "id": "d099a607-c0b3-4ec3-8919-c6751e7125d7",
   "metadata": {},
   "outputs": [],
   "source": []
  },
  {
   "cell_type": "code",
   "execution_count": 16,
   "id": "c377e4e4-9156-4120-8320-e0eb8e4e83b8",
   "metadata": {},
   "outputs": [
    {
     "name": "stdin",
     "output_type": "stream",
     "text": [
      "Enter a string to remove space : sunil yeligeti\n"
     ]
    },
    {
     "name": "stdout",
     "output_type": "stream",
     "text": [
      "Modified string without spaces is :  sunilyeligeti\n"
     ]
    }
   ],
   "source": [
    "#8) removing spaces from string\n",
    "input_string = input(\"Enter a string to remove space :\")\n",
    "\n",
    "new_string = input_string.replace(\" \",\"\")\n",
    "\n",
    "print(\"Modified string without spaces is : \", new_string)"
   ]
  },
  {
   "cell_type": "code",
   "execution_count": null,
   "id": "86146a96-4db4-4764-b6d4-c9f5ce6e7bc2",
   "metadata": {},
   "outputs": [],
   "source": []
  }
 ],
 "metadata": {
  "kernelspec": {
   "display_name": "Python 3 (ipykernel)",
   "language": "python",
   "name": "python3"
  },
  "language_info": {
   "codemirror_mode": {
    "name": "ipython",
    "version": 3
   },
   "file_extension": ".py",
   "mimetype": "text/x-python",
   "name": "python",
   "nbconvert_exporter": "python",
   "pygments_lexer": "ipython3",
   "version": "3.10.8"
  }
 },
 "nbformat": 4,
 "nbformat_minor": 5
}
